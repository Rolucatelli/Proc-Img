{
 "cells": [
  {
   "cell_type": "markdown",
   "metadata": {},
   "source": [
    "# Bibliotecas usadas nos exemplos"
   ]
  },
  {
   "cell_type": "code",
   "execution_count": 1,
   "metadata": {},
   "outputs": [],
   "source": [
    "import cv2 as cv\n",
    "import numpy as np\n",
    "from matplotlib import pyplot as plt\n",
    "import sys"
   ]
  },
  {
   "cell_type": "markdown",
   "metadata": {},
   "source": [
    "# Exemplo de leitura e escrita de imagem"
   ]
  },
  {
   "cell_type": "code",
   "execution_count": null,
   "metadata": {},
   "outputs": [],
   "source": [
    "img = cv.imread(\"macarrao.jpg\", cv.IMREAD_GRAYSCALE)\n",
    " \n",
    "if img is None:\n",
    "  sys.exit(\"Could not read the image.\")\n",
    " \n",
    "cv.imshow(\"Display window\", img)\n",
    "k = cv.waitKey(0)\n",
    "\n",
    "if k == ord(\"s\"):\n",
    "  cv.imwrite(\"macarrao.pgm\", img)\n",
    "  cv.destroyAllWindows()"
   ]
  },
  {
   "cell_type": "markdown",
   "metadata": {},
   "source": [
    "# Exemplo de videos"
   ]
  },
  {
   "cell_type": "code",
   "execution_count": 3,
   "metadata": {},
   "outputs": [],
   "source": [
    "cap = cv.VideoCapture(0)\n",
    "if not cap.isOpened():\n",
    "   print(\"Cannot open camera\")\n",
    "   exit()\n",
    "kernel1 = cv.getStructuringElement(cv.MORPH_RECT,(3,3))\n",
    "kernel2 = cv.getStructuringElement(cv.MORPH_RECT,(5,5))\n",
    "while True:\n",
    "  # Capture frame-by-frameq\n",
    "  ret, frame = cap.read()\n",
    " \n",
    "  # if frame is read correctly ret is True\n",
    "  if not ret:\n",
    "    print(\"Can't receive frame (stream end?). Exiting ...\")\n",
    "    break\n",
    "  # Our operations on the frame come here\n",
    "  # dst = cv.filter2D(frame,-1,kernel1)\n",
    "  gray = cv.cvtColor(frame, cv.COLOR_BGR2GRAY)\n",
    "  gradient = cv.morphologyEx(gray, cv.MORPH_GRADIENT, kernel2)\n",
    "  ret, sure_fg = cv.threshold(gradient,0.7*gradient.max(),255,0)\n",
    "  # Cria uma máscara preta do mesmo tamanho da imagem\n",
    "  markers = np.zeros_like(gray, dtype=np.int32)\n",
    "\n",
    "  # Define o centro da imagem\n",
    "  h, w = gray.shape\n",
    "  center = (w // 2, h // 2)\n",
    "\n",
    "  # Marca o centro como marcador 2 (região interna)\n",
    "  cv.circle(markers, center, 10, 2, -1)\n",
    "\n",
    "  # Marca as bordas como marcador 1 (região externa)\n",
    "  cv.rectangle(markers, (0, 0), (w-1, h-1), 1, thickness=10)\n",
    "\n",
    "  markers = cv.watershed(frame,markers)\n",
    "  frame[markers == -1] = [255,0,0]\n",
    "\n",
    "  # Cada elemento identificado pelo watershed recebe um label diferente em 'markers'\n",
    "  # Para separar cada elemento, você pode criar máscaras para cada label (>1)\n",
    "  unique_labels = np.unique(markers)\n",
    "  for label in unique_labels:\n",
    "    if label > 1:\n",
    "      mask = np.uint8(markers == label) * 255\n",
    "      cv.imshow(f'Elemento {label}', mask)\n",
    "\n",
    "\n",
    "  # Display the resulting frame\n",
    "  cv.imshow('frame', frame)\n",
    "  if cv.waitKey(1) == ord('q'):\n",
    "    break\n",
    " \n",
    "# When everything done, release the capture\n",
    "cap.release()\n",
    "cv.destroyAllWindows()"
   ]
  },
  {
   "cell_type": "markdown",
   "metadata": {},
   "source": [
    "# Desenha formas e texto numa imagem"
   ]
  },
  {
   "cell_type": "code",
   "execution_count": null,
   "metadata": {},
   "outputs": [],
   "source": [
    "# Create a black image\n",
    "img = np.zeros((512,512,3), np.uint8)\n",
    " \n",
    "# Draw a diagonal blue line with thickness of 5 px\n",
    "cv.line(img,(0,0),(511,511),(255,0,0),5)\n",
    "# Draw rectangle\n",
    "cv.rectangle(img,(384,0),(510,128),(0,255,0),3)\n",
    "# Draw circle\n",
    "cv.circle(img,(447,63), 63, (0,0,255), -1)\n",
    "# Draw ellipse\n",
    "cv.ellipse(img,(256,256),(100,50),0,0,180,255,-1)\n",
    "# Draw polygon\n",
    "pts = np.array([[10,5],[20,30],[70,20],[50,10]], np.int32)\n",
    "pts = pts.reshape((-1,1,2))\n",
    "cv.polylines(img,[pts],True,(0,255,255))\n",
    "# Draw text\n",
    "font = cv.FONT_HERSHEY_SIMPLEX\n",
    "cv.putText(img,'OpenCV',(10,500), font, 4,(255,255,255),2,cv.LINE_AA)\n",
    "\n",
    "cv.imshow(\"Desenhos\", img)\n",
    "k = cv.waitKey(0)\n",
    "\n",
    "if k == ord(\"q\"):\n",
    "  cv.destroyAllWindows()"
   ]
  },
  {
   "cell_type": "markdown",
   "metadata": {},
   "source": [
    "# Mouse como ferramenta de desenho"
   ]
  },
  {
   "cell_type": "code",
   "execution_count": null,
   "metadata": {},
   "outputs": [],
   "source": [
    "# mouse callback function\n",
    "# Draw a blue circle when double click\n",
    "def draw_circle(event,x,y,flags,param):\n",
    "   if event == cv.EVENT_LBUTTONDBLCLK:\n",
    "     cv.circle(img,(x,y),50,(255,0,0),-1)\n",
    " \n",
    "# Create a black image, a window and bind the function to window\n",
    "img = np.zeros((512,512,3), np.uint8)\n",
    "cv.namedWindow('image')\n",
    "cv.setMouseCallback('image',draw_circle)\n",
    " \n",
    "while(1):\n",
    "   cv.imshow('image',img)\n",
    "   if cv.waitKey(20) & 0xFF == 27:\n",
    "     break\n",
    "cv.destroyAllWindows()"
   ]
  },
  {
   "cell_type": "markdown",
   "metadata": {},
   "source": [
    "# Outro exemplo com mouse"
   ]
  },
  {
   "cell_type": "code",
   "execution_count": null,
   "metadata": {},
   "outputs": [],
   "source": [
    "drawing = False # true if mouse is pressed\n",
    "mode = True # if True, draw rectangle. Press 'm' to toggle to curve\n",
    "ix,iy = -1,-1\n",
    " \n",
    "# mouse callback function\n",
    "def draw_circle(event,x,y,flags,param):\n",
    "   global ix,iy,drawing,mode\n",
    "   if event == cv.EVENT_LBUTTONDOWN:\n",
    "     drawing = True\n",
    "     ix,iy = x,y\n",
    "   elif event == cv.EVENT_MOUSEMOVE:\n",
    "     if drawing == True:\n",
    "       if mode == True:\n",
    "         cv.rectangle(img,(ix,iy),(x,y),(0,255,0),-1)\n",
    "       else:\n",
    "         cv.circle(img,(x,y),5,(0,0,255),-1)\n",
    "   elif event == cv.EVENT_LBUTTONUP:\n",
    "     drawing = False\n",
    "     if mode == True:\n",
    "       cv.rectangle(img,(ix,iy),(x,y),(0,255,0),-1)\n",
    "     else:\n",
    "       cv.circle(img,(x,y),5,(0,0,255),-1)\n",
    "\n",
    "img = np.zeros((512,512,3), np.uint8)\n",
    "cv.namedWindow('image')\n",
    "cv.setMouseCallback('image',draw_circle)\n",
    " \n",
    "while(1):\n",
    " cv.imshow('image',img)\n",
    " k = cv.waitKey(1) & 0xFF\n",
    " if k == ord('m'):\n",
    "   mode = not mode\n",
    " elif k == 27:\n",
    "   break\n",
    " \n",
    "cv.destroyAllWindows()"
   ]
  },
  {
   "cell_type": "markdown",
   "metadata": {},
   "source": [
    "# Operações Morfológicas"
   ]
  },
  {
   "cell_type": "code",
   "execution_count": null,
   "metadata": {},
   "outputs": [],
   "source": [
    "img = cv.imread('j.png', cv.IMREAD_GRAYSCALE)\n",
    "assert img is not None, \"file could not be read, check with os.path.exists()\"\n",
    "kernel = np.ones((5,5),np.uint8)\n",
    "erosion = cv.erode(img,kernel,iterations = 1)\n",
    "\n",
    "cv.imshow(\"Erosion\", erosion)\n",
    "k = cv.waitKey(0)\n",
    "\n",
    "if k == ord(\"q\"):\n",
    "  cv.destroyAllWindows()\n",
    "\n",
    "dilation = cv.dilate(img,kernel,iterations = 1)\n",
    "\n",
    "cv.imshow(\"Dilation\", dilation)\n",
    "k = cv.waitKey(0)\n",
    "\n",
    "if k == ord(\"q\"):\n",
    "  cv.destroyAllWindows()"
   ]
  },
  {
   "cell_type": "markdown",
   "metadata": {},
   "source": [
    "# Transformada de Fourier"
   ]
  },
  {
   "cell_type": "code",
   "execution_count": null,
   "metadata": {},
   "outputs": [],
   "source": [
    " \n",
    "img = cv.imread('macarrao.pgm', cv.IMREAD_GRAYSCALE)\n",
    "assert img is not None, \"file could not be read, check with os.path.exists()\"\n",
    "f = np.fft.fft2(img)\n",
    "fshift = np.fft.fftshift(f)\n",
    "magnitude_spectrum = 20*np.log(np.abs(fshift))\n",
    " \n",
    "plt.subplot(121),plt.imshow(img, cmap = 'gray')\n",
    "plt.title('Imagem'), plt.xticks([]), plt.yticks([])\n",
    "plt.subplot(122),plt.imshow(magnitude_spectrum, cmap = 'gray')\n",
    "plt.title('Espectro'), plt.xticks([]), plt.yticks([])\n",
    "plt.show()"
   ]
  },
  {
   "cell_type": "markdown",
   "metadata": {},
   "source": [
    "# Segmentação usando Watershed"
   ]
  },
  {
   "cell_type": "code",
   "execution_count": null,
   "metadata": {},
   "outputs": [],
   "source": [
    "img = cv.imread('moedas.jpg')\n",
    "assert img is not None, \"file could not be read, check with os.path.exists()\"\n",
    "gray = cv.cvtColor(img,cv.COLOR_BGR2GRAY)\n",
    "ret, thresh = cv.threshold(gray,0,255,cv.THRESH_BINARY_INV+cv.THRESH_OTSU)\n",
    "\n",
    "plt.imshow(img)"
   ]
  },
  {
   "cell_type": "code",
   "execution_count": null,
   "metadata": {},
   "outputs": [],
   "source": [
    "plt.imshow(thresh, cmap='gray')"
   ]
  },
  {
   "cell_type": "code",
   "execution_count": null,
   "metadata": {},
   "outputs": [],
   "source": [
    "# noise removal\n",
    "kernel = np.ones((3,3),np.uint8)\n",
    "opening = cv.morphologyEx(thresh,cv.MORPH_OPEN,kernel, iterations = 2)\n",
    " \n",
    "# sure background area\n",
    "sure_bg = cv.dilate(opening,kernel,iterations=3)\n",
    " \n",
    "# Finding sure foreground area\n",
    "dist_transform = cv.distanceTransform(opening,cv.DIST_L2,5)\n",
    "ret, sure_fg = cv.threshold(dist_transform,0.7*dist_transform.max(),255,0)\n",
    " \n",
    "# Finding unknown region\n",
    "sure_fg = np.uint8(sure_fg)\n",
    "unknown = cv.subtract(sure_bg,sure_fg)\n",
    "\n",
    "plt.subplot(121),plt.imshow(dist_transform, cmap = 'gray')\n",
    "plt.title('Distancia'), plt.xticks([]), plt.yticks([])\n",
    "plt.subplot(122),plt.imshow(sure_fg, cmap = 'gray')\n",
    "plt.title('Centros'), plt.xticks([]), plt.yticks([])\n",
    "plt.show()"
   ]
  },
  {
   "cell_type": "code",
   "execution_count": null,
   "metadata": {},
   "outputs": [],
   "source": [
    "# Marker labelling\n",
    "ret, markers = cv.connectedComponents(sure_fg)\n",
    " \n",
    "# Add one to all labels so that sure background is not 0, but 1\n",
    "markers = markers+1\n",
    " \n",
    "# Now, mark the region of unknown with zero\n",
    "markers[unknown==255] = 0\n",
    "\n",
    "plt.imshow(markers, cmap='gray')"
   ]
  },
  {
   "cell_type": "code",
   "execution_count": null,
   "metadata": {},
   "outputs": [],
   "source": [
    "markers = cv.watershed(img,markers)\n",
    "img[markers == -1] = [0,255,0]\n",
    "\n",
    "plt.imshow(img, cmap='gray')"
   ]
  },
  {
   "cell_type": "markdown",
   "metadata": {},
   "source": [
    "# Quantização usando K-means"
   ]
  },
  {
   "cell_type": "code",
   "execution_count": null,
   "metadata": {},
   "outputs": [],
   "source": [
    "img = cv.imread('home.jpg')\n",
    "Z = img.reshape((-1,3))\n",
    "# convert to np.float32\n",
    "Z = np.float32(Z)\n",
    "# define criteria, number of clusters(K) and apply kmeans()\n",
    "criteria = (cv.TERM_CRITERIA_EPS + cv.TERM_CRITERIA_MAX_ITER, 10, 1.0)\n",
    "K = 8\n",
    "ret,label,center=cv.kmeans(Z,K,None,criteria,10,cv.KMEANS_RANDOM_CENTERS)\n",
    "# Now convert back into uint8, and make original image\n",
    "center = np.uint8(center)\n",
    "res = center[label.flatten()]\n",
    "res2 = res.reshape((img.shape))\n",
    "\n",
    "font = cv.FONT_HERSHEY_SIMPLEX\n",
    "cv.putText(res2,'K={}'.format(K),(10,50), font, 1,(255,255,255),2,cv.LINE_AA)\n",
    "\n",
    "cv.imshow('Quantization',res2)\n",
    "cv.waitKey(0)\n",
    "cv.destroyAllWindows()"
   ]
  }
 ],
 "metadata": {
  "kernelspec": {
   "display_name": ".venv",
   "language": "python",
   "name": "python3"
  },
  "language_info": {
   "codemirror_mode": {
    "name": "ipython",
    "version": 3
   },
   "file_extension": ".py",
   "mimetype": "text/x-python",
   "name": "python",
   "nbconvert_exporter": "python",
   "pygments_lexer": "ipython3",
   "version": "3.12.7"
  }
 },
 "nbformat": 4,
 "nbformat_minor": 2
}
